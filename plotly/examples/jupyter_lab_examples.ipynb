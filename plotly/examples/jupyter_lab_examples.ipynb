{
 "cells": [
  {
   "cell_type": "code",
   "execution_count": null,
   "metadata": {},
   "outputs": [],
   "source": [
    "//:dep plotly = { version = \">=0.7.0\" }"
   ]
  },
  {
   "cell_type": "code",
   "execution_count": null,
   "metadata": {},
   "outputs": [],
   "source": [
    ":dep plotly = { path = \"<localpath>/plotly/plotly\", features = [\"kaleido\", \"plotly_ndarray\", \"plotly_image\"]}\n",
    ":dep itertools-num = \"0.1.3\"\n",
    ":dep reqwest = { version = \"0.11\", features = [\"blocking\"] }\n",
    ":dep image = \"0.24.2\""
   ]
  },
  {
   "cell_type": "code",
   "execution_count": null,
   "metadata": {},
   "outputs": [],
   "source": [
    "use plotly::{Layout, Plot, Trace};\n",
    "\n",
    "fn simple_plot<T: Trace + 'static>(trace: Box<T>, modify: fn(Layout) -> Layout) {\n",
    "    let mut plot = Plot::new();\n",
    "    plot.add_trace(trace);\n",
    "    let mut layout = Layout::new().height(800);\n",
    "    plot.set_layout(modify(layout));\n",
    "    plot.lab_display();\n",
    "}"
   ]
  },
  {
   "cell_type": "markdown",
   "metadata": {},
   "source": [
    "## Scatter plot example"
   ]
  },
  {
   "cell_type": "code",
   "execution_count": null,
   "metadata": {},
   "outputs": [],
   "source": [
    "use itertools_num::linspace;\n",
    "use plotly::{common::Mode, Scatter};\n",
    "\n",
    "fn demo_scatter_trace() -> Box<Scatter<f64, f64>> {\n",
    "    let n: usize = 100;\n",
    "    let t: Vec<f64> = linspace(0., 10., n).collect();\n",
    "    let y: Vec<f64> = t.iter().map(|x| x.sin()).collect();\n",
    "    Scatter::new(t, y).mode(Mode::Markers)\n",
    "}\n",
    "\n",
    "simple_plot(demo_scatter_trace(), |layout| layout);"
   ]
  },
  {
   "cell_type": "markdown",
   "metadata": {},
   "source": [
    "## 3D model mesh example"
   ]
  },
  {
   "cell_type": "code",
   "execution_count": null,
   "metadata": {},
   "outputs": [],
   "source": [
    "#[derive(Clone, Debug, Default)]\n",
    "struct MeshData {\n",
    "    x: Vec<f64>,\n",
    "    y: Vec<f64>,\n",
    "    z: Vec<f64>,\n",
    "    \n",
    "    i: Vec<usize>,\n",
    "    j: Vec<usize>,\n",
    "    k: Vec<usize>,\n",
    "}\n",
    "\n",
    "fn download_model(url: &str) -> MeshData {\n",
    "    let mut mesh = MeshData::default();\n",
    "    for line in reqwest::blocking::get(url).unwrap().text().unwrap().split(\"\\n\") {\n",
    "        let words = line.split(\" \").collect::<Vec<&str>>();\n",
    "        match words[0] {\n",
    "            \"v\" => {\n",
    "                mesh.x.push(words[1].parse().unwrap());\n",
    "                mesh.y.push(words[2].parse().unwrap());\n",
    "                mesh.z.push(words[3].parse().unwrap());\n",
    "            },\n",
    "            \"vn\" => (),\n",
    "            \"f\" => {\n",
    "                mesh.i.push(words[1].parse::<usize>().unwrap() - 1);\n",
    "                mesh.j.push(words[2].parse::<usize>().unwrap() - 1);\n",
    "                mesh.k.push(words[3].parse::<usize>().unwrap() - 1);\n",
    "            },\n",
    "            _ => ()\n",
    "        }\n",
    "    }\n",
    "    mesh\n",
    "}\n",
    "\n",
    "let bunny = download_model(\"https://raw.githubusercontent.com/alecjacobson/skeleton-builder/master/big-buck-bunny.obj\");"
   ]
  },
  {
   "cell_type": "code",
   "execution_count": null,
   "metadata": {},
   "outputs": [],
   "source": [
    "use plotly::Mesh3D;\n",
    "\n",
    "fn demo_mesh_trace(mesh: &MeshData) -> Box<Mesh3D<f64,f64, f64>> {\n",
    "    let MeshData { x, y, z, i, j, k } = mesh.clone();\n",
    "    let intensity = x.clone();\n",
    "    Mesh3D::new(x, z, y, i, j, k).intensity(intensity)\n",
    "}\n",
    "\n",
    "simple_plot(demo_mesh_trace(&bunny), |layout| layout);"
   ]
  },
  {
   "cell_type": "markdown",
   "metadata": {},
   "source": [
    "## Image example"
   ]
  },
  {
   "cell_type": "code",
   "execution_count": null,
   "metadata": {},
   "outputs": [],
   "source": [
    "use image::RgbImage;\n",
    "\n",
    "fn download_image(url: &str) -> RgbImage {\n",
    "    let img_bytes = reqwest::blocking::get(url).unwrap().bytes().unwrap();\n",
    "    image::load_from_memory(&img_bytes).unwrap().into_rgb8()\n",
    "}\n",
    "\n",
    "let tux = download_image(\"https://upload.wikimedia.org/wikipedia/commons/thumb/3/35/Tux.svg/405px-Tux.svg.png\");"
   ]
  },
  {
   "cell_type": "code",
   "execution_count": null,
   "metadata": {},
   "outputs": [],
   "source": [
    "use plotly::{Image, image::{PixelColor, ZSmooth}};\n",
    "\n",
    "fn demo_image_trace(img: &RgbImage) -> Box<Image<u8>> {\n",
    "    let width = img.width() as usize;\n",
    "    let height = img.height() as usize;\n",
    "    let mut arr: Vec<Vec<PixelColor<u8>>> =\n",
    "        vec![vec![PixelColor::Color3([0, 0, 0]); width]; height];\n",
    "    for x in 0..width {\n",
    "        for y in 0..height {\n",
    "            let mut rgb = [0, 0, 0];\n",
    "            for k in 0..3 {\n",
    "                 rgb[k] = img[(x as u32, y as u32)][k];\n",
    "            }\n",
    "            arr[y][x] = PixelColor::Color3(rgb);\n",
    "        }\n",
    "    }\n",
    "    Image::new(arr)\n",
    "}\n",
    "\n",
    "simple_plot(demo_image_trace(&tux), |layout| layout);"
   ]
  },
  {
   "cell_type": "markdown",
   "metadata": {},
   "source": [
    "## Mapbox example"
   ]
  },
  {
   "cell_type": "code",
   "execution_count": null,
   "metadata": {},
   "outputs": [],
   "source": [
    "use plotly::{ScatterMapbox, layout::{Center, HoverMode, Mapbox}, common::Marker};\n",
    "\n",
    "fn demo_scattermapbox_trace() -> Box<ScatterMapbox<f64, f64>> {\n",
    "    let lat = vec![45.5017];\n",
    "    let lon = vec![-73.5673];\n",
    "    let size = 14;\n",
    "    let text = \"Montreal\";\n",
    "    \n",
    "    ScatterMapbox::new(lat, lon)\n",
    "        .mode(Mode::Markers)\n",
    "        .marker(Marker::new().size(size))\n",
    "        .text(text)\n",
    "}\n",
    "\n",
    "simple_plot(demo_scattermapbox_trace(), |layout: Layout| {\n",
    "    layout\n",
    "        .hover_mode(HoverMode::Closest)\n",
    "        .mapbox(Mapbox::new()\n",
    "        .access_token(\"pk.eyJ1Ijoiam9lbHNqb2dyZW4iLCJhIjoiY2tnNmFnd3JnMDA0bTJybjZidzUxaWIyNCJ9.p_L0C7GQWe4gog_wQf6OrA\")\n",
    "        .bearing(0.0)\n",
    "        .center(Center::new(45.0, -73.0))\n",
    "        .pitch(0.0)\n",
    "        .zoom(5.0))\n",
    "});"
   ]
  },
  {
   "cell_type": "code",
   "execution_count": null,
   "metadata": {},
   "outputs": [],
   "source": []
  }
 ],
 "metadata": {
  "kernelspec": {
   "display_name": "Rust",
   "language": "rust",
   "name": "rust"
  },
  "language_info": {
   "codemirror_mode": "rust",
   "file_extension": ".rs",
   "mimetype": "text/rust",
   "name": "Rust",
   "pygment_lexer": "rust",
   "version": ""
  }
 },
 "nbformat": 4,
 "nbformat_minor": 4
}
